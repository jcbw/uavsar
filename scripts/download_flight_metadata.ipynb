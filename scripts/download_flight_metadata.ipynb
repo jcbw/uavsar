{
 "cells": [
  {
   "cell_type": "code",
   "execution_count": 129,
   "id": "impossible-finland",
   "metadata": {},
   "outputs": [],
   "source": [
    "import requests\n",
    "import pandas as pd"
   ]
  },
  {
   "cell_type": "code",
   "execution_count": 37,
   "id": "supreme-absolute",
   "metadata": {},
   "outputs": [],
   "source": [
    "!aws s3 ls --recursive s3://snowex-data/uavsar-project/UAVSAR_images/ > files.txt"
   ]
  },
  {
   "cell_type": "code",
   "execution_count": 35,
   "id": "joint-tobago",
   "metadata": {},
   "outputs": [],
   "source": [
    "folders = []\n",
    "with open('folders.txt', 'r') as folder_file:\n",
    "    lines = folder_file.readlines()\n",
    "    for l in lines:\n",
    "        folders.append(l.split(' ')[-1][:-2])"
   ]
  },
  {
   "cell_type": "code",
   "execution_count": 40,
   "id": "headed-consent",
   "metadata": {},
   "outputs": [],
   "source": [
    "files = []\n",
    "with open('files.txt', 'r') as files_file:\n",
    "    lines = files_file.readlines()\n",
    "    for l in lines:\n",
    "        path = l.split(' ')[-1][:-1]\n",
    "        f = path.split('/')[-1].split('.')[0]\n",
    "        files.append(f)"
   ]
  },
  {
   "cell_type": "code",
   "execution_count": 50,
   "id": "crazy-rental",
   "metadata": {},
   "outputs": [],
   "source": [
    "# Now, we want to remove duplicates. To do that we can generate a dict with keys from the list\n",
    "# Dictionnaries don't accept duplicates, and will automatically trim the list for us\n",
    "# Then convert back to a list\n",
    "dico = dict.fromkeys(files)\n",
    "granule_names = list(dico.keys())\n",
    "granule_names.remove('test')\n",
    "granule_names = ['UA_' + g for g in granule_names]"
   ]
  },
  {
   "cell_type": "code",
   "execution_count": 116,
   "id": "eight-japanese",
   "metadata": {},
   "outputs": [],
   "source": [
    "#Getting read of the polarization info\n",
    "granule_names_clean = []\n",
    "for granule_name in granule_names:\n",
    "    els = granule_name.split('_')\n",
    "    els[-2] = els[-2][:-2]\n",
    "    new_name = '_'.join(els)\n",
    "    granule_names_clean.append(new_name)\n",
    "#granule_names[0].split('_')[-2][:-2]"
   ]
  },
  {
   "cell_type": "code",
   "execution_count": 118,
   "id": "peaceful-activation",
   "metadata": {},
   "outputs": [],
   "source": [
    "# Now, we want to remove duplicates AGAIN (because of polarizations names that are dropped now).\n",
    "dico = dict.fromkeys(granule_names_clean)\n",
    "granule_names = list(dico.keys())"
   ]
  },
  {
   "cell_type": "code",
   "execution_count": 120,
   "id": "earlier-organization",
   "metadata": {},
   "outputs": [
    {
     "data": {
      "text/plain": [
       "63"
      ]
     },
     "execution_count": 120,
     "metadata": {},
     "output_type": "execute_result"
    }
   ],
   "source": [
    "len(granule_names)"
   ]
  },
  {
   "cell_type": "code",
   "execution_count": 124,
   "id": "together-amber",
   "metadata": {},
   "outputs": [],
   "source": [
    "granule_list_string = ','.join(granule_names)"
   ]
  },
  {
   "cell_type": "code",
   "execution_count": 164,
   "id": "subject-messenger",
   "metadata": {},
   "outputs": [],
   "source": [
    "base = 'https://api.daac.asf.alaska.edu/services/search/param'\n",
    "payload = {\n",
    "    'granule_list': granule_list_string,\n",
    "    'processingLevel': 'INTERFEROMETRY_GRD',\n",
    "    'output': 'JSON'\n",
    "}\n",
    "r = requests.get(base, params=payload)\n",
    "\n",
    "result = r.json()[0]"
   ]
  },
  {
   "cell_type": "code",
   "execution_count": 165,
   "id": "pharmaceutical-bacon",
   "metadata": {},
   "outputs": [
    {
     "data": {
      "text/plain": [
       "63"
      ]
     },
     "execution_count": 165,
     "metadata": {},
     "output_type": "execute_result"
    }
   ],
   "source": [
    "len(result)"
   ]
  },
  {
   "cell_type": "code",
   "execution_count": 166,
   "id": "strategic-analyst",
   "metadata": {},
   "outputs": [],
   "source": [
    "res_dict = {\n",
    "    k: [d.get(k) for d in result]\n",
    "    for k in set().union(*result)\n",
    "}"
   ]
  },
  {
   "cell_type": "code",
   "execution_count": 167,
   "id": "recognized-tender",
   "metadata": {},
   "outputs": [
    {
     "data": {
      "text/html": [
       "<div>\n",
       "<style scoped>\n",
       "    .dataframe tbody tr th:only-of-type {\n",
       "        vertical-align: middle;\n",
       "    }\n",
       "\n",
       "    .dataframe tbody tr th {\n",
       "        vertical-align: top;\n",
       "    }\n",
       "\n",
       "    .dataframe thead th {\n",
       "        text-align: right;\n",
       "    }\n",
       "</style>\n",
       "<table border=\"1\" class=\"dataframe\">\n",
       "  <thead>\n",
       "    <tr style=\"text-align: right;\">\n",
       "      <th></th>\n",
       "      <th>processingDate</th>\n",
       "      <th>collectionName</th>\n",
       "      <th>sceneDateString</th>\n",
       "      <th>product_file_id</th>\n",
       "      <th>beamModeType</th>\n",
       "      <th>polarization</th>\n",
       "      <th>track</th>\n",
       "      <th>nearStartLon</th>\n",
       "      <th>nearEndLon</th>\n",
       "      <th>centerLon</th>\n",
       "      <th>...</th>\n",
       "      <th>sizeMB</th>\n",
       "      <th>browse</th>\n",
       "      <th>nearStartLat</th>\n",
       "      <th>farStartLon</th>\n",
       "      <th>sarSceneId</th>\n",
       "      <th>masterGranule</th>\n",
       "      <th>insarStackSize</th>\n",
       "      <th>sceneDate</th>\n",
       "      <th>processingLevel</th>\n",
       "      <th>doppler</th>\n",
       "    </tr>\n",
       "  </thead>\n",
       "  <tbody>\n",
       "    <tr>\n",
       "      <th>0</th>\n",
       "      <td>2021-04-20T14:05:11Z</td>\n",
       "      <td>Grand Mesa, CO</td>\n",
       "      <td>None</td>\n",
       "      <td>UA_grmesa_27416_21019-017_21021-005_0006d_s01_...</td>\n",
       "      <td>RPI</td>\n",
       "      <td>HH</td>\n",
       "      <td>27416</td>\n",
       "      <td>-108.29981431</td>\n",
       "      <td>-108.28850828</td>\n",
       "      <td>-108.110831843488</td>\n",
       "      <td>...</td>\n",
       "      <td>1061.31871414</td>\n",
       "      <td>https://datapool.asf.alaska.edu/BROWSE/UA/grme...</td>\n",
       "      <td>38.97978927</td>\n",
       "      <td>-107.92851476</td>\n",
       "      <td>None</td>\n",
       "      <td>None</td>\n",
       "      <td>0</td>\n",
       "      <td>2021-03-22T15:30:53Z</td>\n",
       "      <td>INTERFEROMETRY_GRD</td>\n",
       "      <td>-1</td>\n",
       "    </tr>\n",
       "    <tr>\n",
       "      <th>1</th>\n",
       "      <td>2021-04-16T00:20:18Z</td>\n",
       "      <td>Grand Mesa, CO</td>\n",
       "      <td>None</td>\n",
       "      <td>UA_grmesa_27416_21017-017_21019-017_0006d_s01_...</td>\n",
       "      <td>RPI</td>\n",
       "      <td>HH</td>\n",
       "      <td>27416</td>\n",
       "      <td>-108.29748606</td>\n",
       "      <td>-108.29003968</td>\n",
       "      <td>-108.109932476343</td>\n",
       "      <td>...</td>\n",
       "      <td>1059.69205761</td>\n",
       "      <td>https://datapool.asf.alaska.edu/BROWSE/UA/grme...</td>\n",
       "      <td>38.97964027</td>\n",
       "      <td>-107.92584069</td>\n",
       "      <td>None</td>\n",
       "      <td>None</td>\n",
       "      <td>0</td>\n",
       "      <td>2021-03-16T16:39:43Z</td>\n",
       "      <td>INTERFEROMETRY_GRD</td>\n",
       "      <td>-1</td>\n",
       "    </tr>\n",
       "    <tr>\n",
       "      <th>2</th>\n",
       "      <td>2021-04-16T00:31:52Z</td>\n",
       "      <td>Grand Mesa, CO</td>\n",
       "      <td>None</td>\n",
       "      <td>UA_grmesa_27416_21016-002_21017-017_0007d_s01_...</td>\n",
       "      <td>RPI</td>\n",
       "      <td>HH</td>\n",
       "      <td>27416</td>\n",
       "      <td>-108.36892775</td>\n",
       "      <td>-108.36503558</td>\n",
       "      <td>-108.13248652742</td>\n",
       "      <td>...</td>\n",
       "      <td>1395.20475578</td>\n",
       "      <td>https://datapool.asf.alaska.edu/BROWSE/UA/grme...</td>\n",
       "      <td>38.98395834</td>\n",
       "      <td>-107.89145644</td>\n",
       "      <td>None</td>\n",
       "      <td>None</td>\n",
       "      <td>0</td>\n",
       "      <td>2021-03-10T16:36:09Z</td>\n",
       "      <td>INTERFEROMETRY_GRD</td>\n",
       "      <td>-1</td>\n",
       "    </tr>\n",
       "    <tr>\n",
       "      <th>3</th>\n",
       "      <td>2021-04-16T00:11:26Z</td>\n",
       "      <td>Grand Mesa, CO</td>\n",
       "      <td>None</td>\n",
       "      <td>UA_grmesa_27416_21011-010_21016-002_0021d_s01_...</td>\n",
       "      <td>RPI</td>\n",
       "      <td>HH</td>\n",
       "      <td>27416</td>\n",
       "      <td>-108.37162923</td>\n",
       "      <td>-108.36243788</td>\n",
       "      <td>-108.133431122101</td>\n",
       "      <td>...</td>\n",
       "      <td>1387.80714989</td>\n",
       "      <td>https://datapool.asf.alaska.edu/BROWSE/UA/grme...</td>\n",
       "      <td>38.98414439</td>\n",
       "      <td>-107.894959</td>\n",
       "      <td>None</td>\n",
       "      <td>None</td>\n",
       "      <td>0</td>\n",
       "      <td>2021-03-03T22:03:01Z</td>\n",
       "      <td>INTERFEROMETRY_GRD</td>\n",
       "      <td>-1</td>\n",
       "    </tr>\n",
       "    <tr>\n",
       "      <th>4</th>\n",
       "      <td>2021-04-15T00:39:39Z</td>\n",
       "      <td>Utica, MT</td>\n",
       "      <td>None</td>\n",
       "      <td>UA_uticam_21003_21004-002_21013-003_0034d_s01_...</td>\n",
       "      <td>RPI</td>\n",
       "      <td>HH</td>\n",
       "      <td>21003</td>\n",
       "      <td>-110.53347332</td>\n",
       "      <td>-109.94382806</td>\n",
       "      <td>-110.121192870436</td>\n",
       "      <td>...</td>\n",
       "      <td>3580.7259922</td>\n",
       "      <td>https://datapool.asf.alaska.edu/BROWSE/UA/utic...</td>\n",
       "      <td>46.53446577</td>\n",
       "      <td>-110.30794956</td>\n",
       "      <td>None</td>\n",
       "      <td>None</td>\n",
       "      <td>0</td>\n",
       "      <td>2021-02-23T18:47:21Z</td>\n",
       "      <td>INTERFEROMETRY_GRD</td>\n",
       "      <td>-1</td>\n",
       "    </tr>\n",
       "  </tbody>\n",
       "</table>\n",
       "<p>5 rows × 68 columns</p>\n",
       "</div>"
      ],
      "text/plain": [
       "         processingDate  collectionName sceneDateString  \\\n",
       "0  2021-04-20T14:05:11Z  Grand Mesa, CO            None   \n",
       "1  2021-04-16T00:20:18Z  Grand Mesa, CO            None   \n",
       "2  2021-04-16T00:31:52Z  Grand Mesa, CO            None   \n",
       "3  2021-04-16T00:11:26Z  Grand Mesa, CO            None   \n",
       "4  2021-04-15T00:39:39Z       Utica, MT            None   \n",
       "\n",
       "                                     product_file_id beamModeType  \\\n",
       "0  UA_grmesa_27416_21019-017_21021-005_0006d_s01_...          RPI   \n",
       "1  UA_grmesa_27416_21017-017_21019-017_0006d_s01_...          RPI   \n",
       "2  UA_grmesa_27416_21016-002_21017-017_0007d_s01_...          RPI   \n",
       "3  UA_grmesa_27416_21011-010_21016-002_0021d_s01_...          RPI   \n",
       "4  UA_uticam_21003_21004-002_21013-003_0034d_s01_...          RPI   \n",
       "\n",
       "  polarization  track   nearStartLon     nearEndLon          centerLon  ...  \\\n",
       "0           HH  27416  -108.29981431  -108.28850828  -108.110831843488  ...   \n",
       "1           HH  27416  -108.29748606  -108.29003968  -108.109932476343  ...   \n",
       "2           HH  27416  -108.36892775  -108.36503558   -108.13248652742  ...   \n",
       "3           HH  27416  -108.37162923  -108.36243788  -108.133431122101  ...   \n",
       "4           HH  21003  -110.53347332  -109.94382806  -110.121192870436  ...   \n",
       "\n",
       "          sizeMB                                             browse  \\\n",
       "0  1061.31871414  https://datapool.asf.alaska.edu/BROWSE/UA/grme...   \n",
       "1  1059.69205761  https://datapool.asf.alaska.edu/BROWSE/UA/grme...   \n",
       "2  1395.20475578  https://datapool.asf.alaska.edu/BROWSE/UA/grme...   \n",
       "3  1387.80714989  https://datapool.asf.alaska.edu/BROWSE/UA/grme...   \n",
       "4   3580.7259922  https://datapool.asf.alaska.edu/BROWSE/UA/utic...   \n",
       "\n",
       "  nearStartLat    farStartLon sarSceneId masterGranule insarStackSize  \\\n",
       "0  38.97978927  -107.92851476       None          None              0   \n",
       "1  38.97964027  -107.92584069       None          None              0   \n",
       "2  38.98395834  -107.89145644       None          None              0   \n",
       "3  38.98414439    -107.894959       None          None              0   \n",
       "4  46.53446577  -110.30794956       None          None              0   \n",
       "\n",
       "              sceneDate     processingLevel doppler  \n",
       "0  2021-03-22T15:30:53Z  INTERFEROMETRY_GRD      -1  \n",
       "1  2021-03-16T16:39:43Z  INTERFEROMETRY_GRD      -1  \n",
       "2  2021-03-10T16:36:09Z  INTERFEROMETRY_GRD      -1  \n",
       "3  2021-03-03T22:03:01Z  INTERFEROMETRY_GRD      -1  \n",
       "4  2021-02-23T18:47:21Z  INTERFEROMETRY_GRD      -1  \n",
       "\n",
       "[5 rows x 68 columns]"
      ]
     },
     "execution_count": 167,
     "metadata": {},
     "output_type": "execute_result"
    }
   ],
   "source": [
    "df = pd.DataFrame.from_dict(res_dict)\n",
    "df.head()"
   ]
  },
  {
   "cell_type": "code",
   "execution_count": 163,
   "id": "weekly-miller",
   "metadata": {},
   "outputs": [],
   "source": [
    "df.to_csv('interferometric_grd_metadatas.csv', index=False)"
   ]
  }
 ],
 "metadata": {
  "kernelspec": {
   "display_name": "Python 3",
   "language": "python",
   "name": "python3"
  },
  "language_info": {
   "codemirror_mode": {
    "name": "ipython",
    "version": 3
   },
   "file_extension": ".py",
   "mimetype": "text/x-python",
   "name": "python",
   "nbconvert_exporter": "python",
   "pygments_lexer": "ipython3",
   "version": "3.8.8"
  }
 },
 "nbformat": 4,
 "nbformat_minor": 5
}
